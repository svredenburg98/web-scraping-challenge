{
 "cells": [
  {
   "cell_type": "code",
   "execution_count": 1,
   "metadata": {},
   "outputs": [],
   "source": [
    "import os\n",
    "from bs4 import BeautifulSoup\n",
    "import requests\n",
    "from splinter import Browser\n",
    "from splinter.exceptions import ElementDoesNotExist\n",
    "import pandas as pd"
   ]
  },
  {
   "cell_type": "code",
   "execution_count": 2,
   "metadata": {},
   "outputs": [],
   "source": [
    "url = 'https://mars.nasa.gov/news/'"
   ]
  },
  {
   "cell_type": "code",
   "execution_count": 3,
   "metadata": {},
   "outputs": [],
   "source": [
    "executable_path = {'executable_path': 'chromedriver.exe'}\n",
    "browser = Browser('chrome', **executable_path, headless=False)"
   ]
  },
  {
   "cell_type": "code",
   "execution_count": 4,
   "metadata": {},
   "outputs": [],
   "source": [
    "browser.visit(url)"
   ]
  },
  {
   "cell_type": "code",
   "execution_count": 5,
   "metadata": {},
   "outputs": [],
   "source": [
    "html = browser.html\n",
    "soup = BeautifulSoup(html, 'html.parser')"
   ]
  },
  {
   "cell_type": "code",
   "execution_count": 6,
   "metadata": {},
   "outputs": [
    {
     "name": "stdout",
     "output_type": "stream",
     "text": [
      "51\n",
      "40\n"
     ]
    }
   ],
   "source": [
    "titles = soup.find_all(class_=\"content_title\")\n",
    "print(len(titles))\n",
    "\n",
    "teasers = soup.find_all(class_=\"article_teaser_body\")\n",
    "print(len(teasers))"
   ]
  },
  {
   "cell_type": "code",
   "execution_count": 7,
   "metadata": {},
   "outputs": [
    {
     "name": "stdout",
     "output_type": "stream",
     "text": [
      "<div class=\"content_title\">\n",
      " <a href=\"/news/8785/nasas-perseverance-rover-is-midway-to-mars/\" target=\"_self\">\n",
      "  NASA's Perseverance Rover Is Midway to Mars\n",
      " </a>\n",
      "</div>\n",
      "\n",
      "<div class=\"article_teaser_body\">\n",
      " Sometimes half measures can be a good thing – especially on a journey this long. The agency's latest rover only has about 146 million miles left to reach its destination.\n",
      "</div>\n"
     ]
    }
   ],
   "source": [
    "print(titles[1].prettify())\n",
    "print(teasers[0].prettify())"
   ]
  },
  {
   "cell_type": "code",
   "execution_count": 8,
   "metadata": {},
   "outputs": [
    {
     "name": "stdout",
     "output_type": "stream",
     "text": [
      "NASA's Perseverance Rover Is Midway to Mars \n",
      "Sometimes half measures can be a good thing – especially on a journey this long. The agency's latest rover only has about 146 million miles left to reach its destination.\n"
     ]
    }
   ],
   "source": [
    "title1 = titles[1].find('a').text\n",
    "\n",
    "teaser1 = teasers[0].text\n",
    "\n",
    "print(title1)\n",
    "print(teaser1)"
   ]
  },
  {
   "cell_type": "code",
   "execution_count": 9,
   "metadata": {},
   "outputs": [],
   "source": [
    "jpl_url = 'https://www.jpl.nasa.gov/spaceimages/?search=&category=Mars'\n",
    "browser.visit(jpl_url)\n"
   ]
  },
  {
   "cell_type": "code",
   "execution_count": 10,
   "metadata": {},
   "outputs": [
    {
     "name": "stderr",
     "output_type": "stream",
     "text": [
      "H:\\RICEBOOTCAMP\\anaconda\\lib\\site-packages\\splinter\\driver\\webdriver\\__init__.py:493: FutureWarning: browser.find_link_by_partial_text is deprecated. Use browser.links.find_by_partial_text instead.\n",
      "  FutureWarning,\n"
     ]
    }
   ],
   "source": [
    "browser.click_link_by_partial_text('FULL IMAGE')"
   ]
  },
  {
   "cell_type": "code",
   "execution_count": 11,
   "metadata": {},
   "outputs": [],
   "source": [
    "html2 = browser.html\n",
    "soup2 = BeautifulSoup(html2, 'html.parser')"
   ]
  },
  {
   "cell_type": "code",
   "execution_count": 20,
   "metadata": {},
   "outputs": [
    {
     "name": "stdout",
     "output_type": "stream",
     "text": [
      "<img class=\"fancybox-image\" src=\"/spaceimages/images/mediumsize/PIA09113_ip.jpg\" style=\"display: inline;\"/>\n"
     ]
    }
   ],
   "source": [
    "images = soup2.find_all(class_=\"fancybox-image\")\n",
    "print(images[0])"
   ]
  },
  {
   "cell_type": "code",
   "execution_count": 39,
   "metadata": {},
   "outputs": [
    {
     "data": {
      "text/plain": [
       "'https://www.jpl.nasa.gov/spaceimages/images/mediumsize/PIA09113_ip.jpg'"
      ]
     },
     "execution_count": 39,
     "metadata": {},
     "output_type": "execute_result"
    }
   ],
   "source": [
    "image = images[0]\n",
    "link = image.get('src')\n",
    "featured_image_url = 'https://www.jpl.nasa.gov' + link\n",
    "featured_image_url"
   ]
  },
  {
   "cell_type": "code",
   "execution_count": 30,
   "metadata": {},
   "outputs": [],
   "source": [
    "#pandas\n",
    "mars_table = 'https://space-facts.com/mars/'\n"
   ]
  },
  {
   "cell_type": "code",
   "execution_count": 31,
   "metadata": {},
   "outputs": [
    {
     "data": {
      "text/plain": [
       "3"
      ]
     },
     "execution_count": 31,
     "metadata": {},
     "output_type": "execute_result"
    }
   ],
   "source": [
    "tables = pd.read_html(mars_table)\n",
    "len(tables)"
   ]
  },
  {
   "cell_type": "code",
   "execution_count": 36,
   "metadata": {},
   "outputs": [],
   "source": [
    "mars_df = tables[0]"
   ]
  },
  {
   "cell_type": "code",
   "execution_count": 38,
   "metadata": {},
   "outputs": [
    {
     "name": "stdout",
     "output_type": "stream",
     "text": [
      "<table border=\"1\" class=\"dataframe\">\n",
      "  <thead>\n",
      "    <tr style=\"text-align: right;\">\n",
      "      <th></th>\n",
      "      <th>0</th>\n",
      "      <th>1</th>\n",
      "    </tr>\n",
      "  </thead>\n",
      "  <tbody>\n",
      "    <tr>\n",
      "      <th>0</th>\n",
      "      <td>Equatorial Diameter:</td>\n",
      "      <td>6,792 km</td>\n",
      "    </tr>\n",
      "    <tr>\n",
      "      <th>1</th>\n",
      "      <td>Polar Diameter:</td>\n",
      "      <td>6,752 km</td>\n",
      "    </tr>\n",
      "    <tr>\n",
      "      <th>2</th>\n",
      "      <td>Mass:</td>\n",
      "      <td>6.39 × 10^23 kg (0.11 Earths)</td>\n",
      "    </tr>\n",
      "    <tr>\n",
      "      <th>3</th>\n",
      "      <td>Moons:</td>\n",
      "      <td>2 (Phobos &amp; Deimos)</td>\n",
      "    </tr>\n",
      "    <tr>\n",
      "      <th>4</th>\n",
      "      <td>Orbit Distance:</td>\n",
      "      <td>227,943,824 km (1.38 AU)</td>\n",
      "    </tr>\n",
      "    <tr>\n",
      "      <th>5</th>\n",
      "      <td>Orbit Period:</td>\n",
      "      <td>687 days (1.9 years)</td>\n",
      "    </tr>\n",
      "    <tr>\n",
      "      <th>6</th>\n",
      "      <td>Surface Temperature:</td>\n",
      "      <td>-87 to -5 °C</td>\n",
      "    </tr>\n",
      "    <tr>\n",
      "      <th>7</th>\n",
      "      <td>First Record:</td>\n",
      "      <td>2nd millennium BC</td>\n",
      "    </tr>\n",
      "    <tr>\n",
      "      <th>8</th>\n",
      "      <td>Recorded By:</td>\n",
      "      <td>Egyptian astronomers</td>\n",
      "    </tr>\n",
      "  </tbody>\n",
      "</table>\n"
     ]
    }
   ],
   "source": [
    "html_mars_table = mars_df.to_html()\n",
    "print(html_mars_table)"
   ]
  },
  {
   "cell_type": "code",
   "execution_count": 58,
   "metadata": {},
   "outputs": [],
   "source": [
    "#mars pics\n",
    "pic_url = \"https://astrogeology.usgs.gov/search/results?q=hemisphere+enhanced&k1=target&v1=Mars\"\n",
    "browser.visit(pic_url)"
   ]
  },
  {
   "cell_type": "code",
   "execution_count": 75,
   "metadata": {},
   "outputs": [],
   "source": [
    "browser.click_link_by_partial_text('Enhanced')"
   ]
  },
  {
   "cell_type": "code",
   "execution_count": 74,
   "metadata": {},
   "outputs": [],
   "source": [
    "html3 = browser.html\n",
    "soup3 = BeautifulSoup(html3, 'html.parser')"
   ]
  },
  {
   "cell_type": "code",
   "execution_count": 70,
   "metadata": {},
   "outputs": [
    {
     "name": "stdout",
     "output_type": "stream",
     "text": [
      "<img alt=\"USGS: Science for a Changing World\" class=\"logo\" height=\"60\" src=\"/images/usgs_logo_main_2x.png\"/>\n",
      "<img alt=\"NASA\" class=\"logo\" height=\"65\" src=\"/images/logos/nasa-logo-web-med.png\"/>\n",
      "<img alt=\"PDS Cartography and Imaging Science Node\" class=\"logo\" height=\"65\" src=\"/images/pds_logo-invisible-web.png\"/>\n",
      "<img alt=\"Astropedia\" src=\"/images/astropedia/astropedia-logo-main.png\" style=\"width:200px;border:none;float:right;\"/>\n",
      "<img class=\"thumb\" src=\"/cache/images/39d3266553462198bd2fbc4d18fbed17_cerberus_enhanced.tif_thumb.png\"/>\n",
      "<img class=\"wide-image\" src=\"/cache/images/f5e372a36edfa389625da6d0cc25d905_cerberus_enhanced.tif_full.jpg\"/>\n",
      "<img alt=\"Valles Marineris Hemisphere Unenhanced thumbnail\" class=\"thumb description-thumb\" src=\"/cache/images/f789a481f60deaf01996343999491211_valles_marineris_unenhanced.tif_thumb.png\"/>\n",
      "<img alt=\"Valles Marineris Hemisphere Enhanced thumbnail\" class=\"thumb description-thumb\" src=\"/cache/images/4e59980c1c57f89c680c0e1ccabbeff1_valles_marineris_enhanced.tif_thumb.png\"/>\n",
      "<img alt=\"Syrtis Major Hemisphere Unenhanced thumbnail\" class=\"thumb description-thumb\" src=\"/cache/images/79133220f6cb61a5a091ce8ecee3e554_syrtis_major_unenhanced.tif_thumb.png\"/>\n",
      "<img alt=\"Syrtis Major Hemisphere Enhanced thumbnail\" class=\"thumb description-thumb\" src=\"/cache/images/55a0a1e2796313fdeafb17c35925e8ac_syrtis_major_enhanced.tif_thumb.png\"/>\n",
      "<img alt=\"Schiaparelli Hemisphere Unenhanced thumbnail\" class=\"thumb description-thumb\" src=\"/cache/images/158e3984b3b1dcdb73f87897a0be0fe6_schiaparelli_unenhanced.tif_thumb.png\"/>\n",
      "<img alt=\"ISIS Logo\" height=\"112\" src=\"/images/logos/isis_2x.jpg\" width=\"112\"/>\n",
      "<img alt=\"Nomenclature Logo\" height=\"112\" src=\"/images/logos/nomenclature_2x.jpg\" width=\"112\"/>\n",
      "<img alt=\"Map-a-Planet Logo\" height=\"112\" src=\"/images/logos/map_a_planet_2x.jpg\" width=\"112\"/>\n",
      "<img alt=\"PDS Logo\" height=\"112\" src=\"/images/pds_logo-black-web.png\"/>\n",
      "<img alt=\"RPIF Logo\" height=\"112\" src=\"/images/logos/rpif_2x.jpg\" width=\"112\"/>\n",
      "<img alt=\"Photogrammetry Guest Faciltiy Logo\" height=\"112\" src=\"/images/logos/photogrammetry_2x.jpg\" width=\"112\"/>\n",
      "<img alt=\"Pilot Logo\" height=\"112\" src=\"/images/logos/pilot_2x.jpg\" width=\"112\"/>\n",
      "<img alt=\"MRCTR GIS Lab Logo\" height=\"112\" src=\"/images/logos/mrctr_man_2x.png\" width=\"112\"/>\n"
     ]
    }
   ],
   "source": [
    "hemi = soup3.find_all(\"img\")\n",
    "for hemis in hemi:\n",
    "    print(hemis)"
   ]
  },
  {
   "cell_type": "code",
   "execution_count": 72,
   "metadata": {},
   "outputs": [
    {
     "name": "stdout",
     "output_type": "stream",
     "text": [
      "<img class=\"wide-image\" src=\"/cache/images/f5e372a36edfa389625da6d0cc25d905_cerberus_enhanced.tif_full.jpg\"/>\n"
     ]
    }
   ],
   "source": [
    "print(hemi[5])"
   ]
  },
  {
   "cell_type": "code",
   "execution_count": null,
   "metadata": {},
   "outputs": [],
   "source": []
  }
 ],
 "metadata": {
  "kernelspec": {
   "display_name": "Python 3",
   "language": "python",
   "name": "python3"
  },
  "language_info": {
   "codemirror_mode": {
    "name": "ipython",
    "version": 3
   },
   "file_extension": ".py",
   "mimetype": "text/x-python",
   "name": "python",
   "nbconvert_exporter": "python",
   "pygments_lexer": "ipython3",
   "version": "3.7.6"
  }
 },
 "nbformat": 4,
 "nbformat_minor": 4
}
